{
  "nbformat": 4,
  "nbformat_minor": 0,
  "metadata": {
    "colab": {
      "name": "NLP_Task2_TextProcessing.ipynb",
      "provenance": [],
      "collapsed_sections": []
    },
    "kernelspec": {
      "name": "python3",
      "display_name": "Python 3"
    }
  },
  "cells": [
    {
      "cell_type": "code",
      "metadata": {
        "id": "rPADpVgW8gNt",
        "colab_type": "code",
        "colab": {}
      },
      "source": [
        "import nltk\n",
        "\n",
        "nltk.download()"
      ],
      "execution_count": null,
      "outputs": []
    },
    {
      "cell_type": "code",
      "metadata": {
        "id": "03rJe8Zl9iVY",
        "colab_type": "code",
        "colab": {
          "base_uri": "https://localhost:8080/",
          "height": 34
        },
        "outputId": "81e86c70-aec3-4179-f0c7-b4eefdce112b"
      },
      "source": [
        "import nltk\n",
        "entries = nltk.corpus.cmudict.entries()\n",
        "len(entries)"
      ],
      "execution_count": null,
      "outputs": [
        {
          "output_type": "execute_result",
          "data": {
            "text/plain": [
              "133737"
            ]
          },
          "metadata": {
            "tags": []
          },
          "execution_count": 2
        }
      ]
    },
    {
      "cell_type": "code",
      "metadata": {
        "id": "qC4nQVvw920r",
        "colab_type": "code",
        "colab": {
          "base_uri": "https://localhost:8080/",
          "height": 1000
        },
        "outputId": "c9e35dc7-07c2-4d68-8871-3f7035241e26"
      },
      "source": [
        "entries[:50]"
      ],
      "execution_count": null,
      "outputs": [
        {
          "output_type": "execute_result",
          "data": {
            "text/plain": [
              "[('a', ['AH0']),\n",
              " ('a.', ['EY1']),\n",
              " ('a', ['EY1']),\n",
              " ('a42128',\n",
              "  ['EY1',\n",
              "   'F',\n",
              "   'AO1',\n",
              "   'R',\n",
              "   'T',\n",
              "   'UW1',\n",
              "   'W',\n",
              "   'AH1',\n",
              "   'N',\n",
              "   'T',\n",
              "   'UW1',\n",
              "   'EY1',\n",
              "   'T']),\n",
              " ('aaa', ['T', 'R', 'IH2', 'P', 'AH0', 'L', 'EY1']),\n",
              " ('aaberg', ['AA1', 'B', 'ER0', 'G']),\n",
              " ('aachen', ['AA1', 'K', 'AH0', 'N']),\n",
              " ('aachener', ['AA1', 'K', 'AH0', 'N', 'ER0']),\n",
              " ('aaker', ['AA1', 'K', 'ER0']),\n",
              " ('aalseth', ['AA1', 'L', 'S', 'EH0', 'TH']),\n",
              " ('aamodt', ['AA1', 'M', 'AH0', 'T']),\n",
              " ('aancor', ['AA1', 'N', 'K', 'AO2', 'R']),\n",
              " ('aardema', ['AA0', 'R', 'D', 'EH1', 'M', 'AH0']),\n",
              " ('aardvark', ['AA1', 'R', 'D', 'V', 'AA2', 'R', 'K']),\n",
              " ('aaron', ['EH1', 'R', 'AH0', 'N']),\n",
              " (\"aaron's\", ['EH1', 'R', 'AH0', 'N', 'Z']),\n",
              " ('aarons', ['EH1', 'R', 'AH0', 'N', 'Z']),\n",
              " ('aaronson', ['EH1', 'R', 'AH0', 'N', 'S', 'AH0', 'N']),\n",
              " ('aaronson', ['AA1', 'R', 'AH0', 'N', 'S', 'AH0', 'N']),\n",
              " (\"aaronson's\", ['EH1', 'R', 'AH0', 'N', 'S', 'AH0', 'N', 'Z']),\n",
              " (\"aaronson's\", ['AA1', 'R', 'AH0', 'N', 'S', 'AH0', 'N', 'Z']),\n",
              " ('aarti', ['AA1', 'R', 'T', 'IY2']),\n",
              " ('aase', ['AA1', 'S']),\n",
              " ('aasen', ['AA1', 'S', 'AH0', 'N']),\n",
              " ('ab', ['AE1', 'B']),\n",
              " ('ab', ['EY1', 'B', 'IY1']),\n",
              " ('ababa', ['AH0', 'B', 'AA1', 'B', 'AH0']),\n",
              " ('ababa', ['AA1', 'B', 'AH0', 'B', 'AH0']),\n",
              " ('abacha', ['AE1', 'B', 'AH0', 'K', 'AH0']),\n",
              " ('aback', ['AH0', 'B', 'AE1', 'K']),\n",
              " ('abaco', ['AE1', 'B', 'AH0', 'K', 'OW2']),\n",
              " ('abacus', ['AE1', 'B', 'AH0', 'K', 'AH0', 'S']),\n",
              " ('abad', ['AH0', 'B', 'AA1', 'D']),\n",
              " ('abadaka', ['AH0', 'B', 'AE1', 'D', 'AH0', 'K', 'AH0']),\n",
              " ('abadi', ['AH0', 'B', 'AE1', 'D', 'IY0']),\n",
              " ('abadie', ['AH0', 'B', 'AE1', 'D', 'IY0']),\n",
              " ('abair', ['AH0', 'B', 'EH1', 'R']),\n",
              " ('abalkin', ['AH0', 'B', 'AA1', 'L', 'K', 'IH0', 'N']),\n",
              " ('abalone', ['AE2', 'B', 'AH0', 'L', 'OW1', 'N', 'IY0']),\n",
              " ('abalos', ['AA0', 'B', 'AA1', 'L', 'OW0', 'Z']),\n",
              " ('abandon', ['AH0', 'B', 'AE1', 'N', 'D', 'AH0', 'N']),\n",
              " ('abandoned', ['AH0', 'B', 'AE1', 'N', 'D', 'AH0', 'N', 'D']),\n",
              " ('abandoning', ['AH0', 'B', 'AE1', 'N', 'D', 'AH0', 'N', 'IH0', 'NG']),\n",
              " ('abandonment',\n",
              "  ['AH0', 'B', 'AE1', 'N', 'D', 'AH0', 'N', 'M', 'AH0', 'N', 'T']),\n",
              " ('abandonments',\n",
              "  ['AH0', 'B', 'AE1', 'N', 'D', 'AH0', 'N', 'M', 'AH0', 'N', 'T', 'S']),\n",
              " ('abandons', ['AH0', 'B', 'AE1', 'N', 'D', 'AH0', 'N', 'Z']),\n",
              " ('abanto', ['AH0', 'B', 'AE1', 'N', 'T', 'OW0']),\n",
              " ('abarca', ['AH0', 'B', 'AA1', 'R', 'K', 'AH0']),\n",
              " ('abare', ['AA0', 'B', 'AA1', 'R', 'IY0']),\n",
              " ('abascal', ['AE1', 'B', 'AH0', 'S', 'K', 'AH0', 'L'])]"
            ]
          },
          "metadata": {
            "tags": []
          },
          "execution_count": 3
        }
      ]
    },
    {
      "cell_type": "markdown",
      "metadata": {
        "id": "t-Bc0g5RBHWX",
        "colab_type": "text"
      },
      "source": [
        "## Task 2: Lexicons"
      ]
    },
    {
      "cell_type": "code",
      "metadata": {
        "id": "bDldmqwJ-Kxf",
        "colab_type": "code",
        "colab": {
          "base_uri": "https://localhost:8080/",
          "height": 34
        },
        "outputId": "788a67fa-7b02-40a1-959b-3eebe8f977e7"
      },
      "source": [
        "from nltk.corpus import wordnet as wn\n",
        "\n",
        "wn.synsets('motorcar')"
      ],
      "execution_count": null,
      "outputs": [
        {
          "output_type": "execute_result",
          "data": {
            "text/plain": [
              "[Synset('car.n.01')]"
            ]
          },
          "metadata": {
            "tags": []
          },
          "execution_count": 4
        }
      ]
    },
    {
      "cell_type": "code",
      "metadata": {
        "id": "oN_LuoYK-T-X",
        "colab_type": "code",
        "colab": {
          "base_uri": "https://localhost:8080/",
          "height": 34
        },
        "outputId": "cb99a1eb-2030-4581-b495-edd0366d7bdf"
      },
      "source": [
        "wn.synset('car.n.01').lemma_names()"
      ],
      "execution_count": null,
      "outputs": [
        {
          "output_type": "execute_result",
          "data": {
            "text/plain": [
              "['car', 'auto', 'automobile', 'machine', 'motorcar']"
            ]
          },
          "metadata": {
            "tags": []
          },
          "execution_count": 6
        }
      ]
    },
    {
      "cell_type": "code",
      "metadata": {
        "id": "RTvyy-vn-dmz",
        "colab_type": "code",
        "colab": {
          "base_uri": "https://localhost:8080/",
          "height": 102
        },
        "outputId": "986182c0-1672-4e04-a8d4-1925fc7616c9"
      },
      "source": [
        "wn.synsets('lemon')"
      ],
      "execution_count": null,
      "outputs": [
        {
          "output_type": "execute_result",
          "data": {
            "text/plain": [
              "[Synset('lemon.n.01'),\n",
              " Synset('gamboge.n.02'),\n",
              " Synset('lemon.n.03'),\n",
              " Synset('lemon.n.04'),\n",
              " Synset('lemon.n.05')]"
            ]
          },
          "metadata": {
            "tags": []
          },
          "execution_count": 7
        }
      ]
    },
    {
      "cell_type": "code",
      "metadata": {
        "id": "FvGOF7-P-mz8",
        "colab_type": "code",
        "colab": {
          "base_uri": "https://localhost:8080/",
          "height": 34
        },
        "outputId": "be942d4e-7bd7-4cb4-845f-106e2483e252"
      },
      "source": [
        "wn.synset('lemon.n.03').lemma_names()"
      ],
      "execution_count": null,
      "outputs": [
        {
          "output_type": "execute_result",
          "data": {
            "text/plain": [
              "['lemon', 'lemon_tree', 'Citrus_limon']"
            ]
          },
          "metadata": {
            "tags": []
          },
          "execution_count": 9
        }
      ]
    },
    {
      "cell_type": "markdown",
      "metadata": {
        "id": "6plhCrjaBATA",
        "colab_type": "text"
      },
      "source": [
        "## Task 3: Stemming"
      ]
    },
    {
      "cell_type": "code",
      "metadata": {
        "id": "3au2oNp7-q2d",
        "colab_type": "code",
        "colab": {}
      },
      "source": [
        "#Porter\n",
        "\n",
        "from nltk import PorterStemmer\n",
        "\n",
        "port = PorterStemmer()"
      ],
      "execution_count": null,
      "outputs": []
    },
    {
      "cell_type": "code",
      "metadata": {
        "id": "cYV0WIsV_7xq",
        "colab_type": "code",
        "colab": {
          "base_uri": "https://localhost:8080/",
          "height": 35
        },
        "outputId": "89a186bd-9b75-4598-fbde-a334d16b4a4c"
      },
      "source": [
        "port.stem(\"Dining\")"
      ],
      "execution_count": null,
      "outputs": [
        {
          "output_type": "execute_result",
          "data": {
            "application/vnd.google.colaboratory.intrinsic+json": {
              "type": "string"
            },
            "text/plain": [
              "'dine'"
            ]
          },
          "metadata": {
            "tags": []
          },
          "execution_count": 11
        }
      ]
    },
    {
      "cell_type": "code",
      "metadata": {
        "id": "o4LDNxWlACf0",
        "colab_type": "code",
        "colab": {
          "base_uri": "https://localhost:8080/",
          "height": 35
        },
        "outputId": "7156bcb1-66b3-4588-d63b-a0b90077be67"
      },
      "source": [
        "port.stem(\"Happiness\")"
      ],
      "execution_count": null,
      "outputs": [
        {
          "output_type": "execute_result",
          "data": {
            "application/vnd.google.colaboratory.intrinsic+json": {
              "type": "string"
            },
            "text/plain": [
              "'happi'"
            ]
          },
          "metadata": {
            "tags": []
          },
          "execution_count": 12
        }
      ]
    },
    {
      "cell_type": "code",
      "metadata": {
        "id": "N5Shkk6FAFTh",
        "colab_type": "code",
        "colab": {
          "base_uri": "https://localhost:8080/",
          "height": 35
        },
        "outputId": "b50b2d7b-90de-4fa1-c957-85f4c02b1a02"
      },
      "source": [
        "port.stem(\"Sleepy\")"
      ],
      "execution_count": null,
      "outputs": [
        {
          "output_type": "execute_result",
          "data": {
            "application/vnd.google.colaboratory.intrinsic+json": {
              "type": "string"
            },
            "text/plain": [
              "'sleepi'"
            ]
          },
          "metadata": {
            "tags": []
          },
          "execution_count": 13
        }
      ]
    },
    {
      "cell_type": "code",
      "metadata": {
        "id": "S7lKhllNAJVa",
        "colab_type": "code",
        "colab": {}
      },
      "source": [
        "#Lancaster\n",
        "\n",
        "from nltk import LancasterStemmer\n",
        "\n",
        "lc = LancasterStemmer()"
      ],
      "execution_count": null,
      "outputs": []
    },
    {
      "cell_type": "code",
      "metadata": {
        "id": "A0glHnSfAQNd",
        "colab_type": "code",
        "colab": {
          "base_uri": "https://localhost:8080/",
          "height": 35
        },
        "outputId": "5704bf1b-a3b7-4d2f-c87d-ddbc883f55db"
      },
      "source": [
        "lc.stem(\"happiness\")"
      ],
      "execution_count": null,
      "outputs": [
        {
          "output_type": "execute_result",
          "data": {
            "application/vnd.google.colaboratory.intrinsic+json": {
              "type": "string"
            },
            "text/plain": [
              "'happy'"
            ]
          },
          "metadata": {
            "tags": []
          },
          "execution_count": 15
        }
      ]
    },
    {
      "cell_type": "code",
      "metadata": {
        "id": "WlUJdPYaAR6w",
        "colab_type": "code",
        "colab": {
          "base_uri": "https://localhost:8080/",
          "height": 35
        },
        "outputId": "e4223b02-fe31-4d1a-af77-b8c397f9e4b2"
      },
      "source": [
        "lc.stem(\"Dining\")"
      ],
      "execution_count": null,
      "outputs": [
        {
          "output_type": "execute_result",
          "data": {
            "application/vnd.google.colaboratory.intrinsic+json": {
              "type": "string"
            },
            "text/plain": [
              "'din'"
            ]
          },
          "metadata": {
            "tags": []
          },
          "execution_count": 17
        }
      ]
    },
    {
      "cell_type": "code",
      "metadata": {
        "id": "8kbHvdwHATcP",
        "colab_type": "code",
        "colab": {}
      },
      "source": [
        "# Regex\n",
        "\n",
        "from nltk.stem import RegexpStemmer\n",
        "\n",
        "reg = RegexpStemmer('ing|y')"
      ],
      "execution_count": null,
      "outputs": []
    },
    {
      "cell_type": "code",
      "metadata": {
        "id": "6V3VnR-dA1R6",
        "colab_type": "code",
        "colab": {
          "base_uri": "https://localhost:8080/",
          "height": 35
        },
        "outputId": "0c27b8af-f11f-4f3b-d45b-f85e4fa44a13"
      },
      "source": [
        "reg.stem('thanking')"
      ],
      "execution_count": null,
      "outputs": [
        {
          "output_type": "execute_result",
          "data": {
            "application/vnd.google.colaboratory.intrinsic+json": {
              "type": "string"
            },
            "text/plain": [
              "'thank'"
            ]
          },
          "metadata": {
            "tags": []
          },
          "execution_count": 35
        }
      ]
    },
    {
      "cell_type": "code",
      "metadata": {
        "id": "0PhfrQTfA3jG",
        "colab_type": "code",
        "colab": {
          "base_uri": "https://localhost:8080/",
          "height": 35
        },
        "outputId": "9887b37a-c6d4-4a78-bf50-98037e611662"
      },
      "source": [
        "reg.stem('dining')"
      ],
      "execution_count": null,
      "outputs": [
        {
          "output_type": "execute_result",
          "data": {
            "application/vnd.google.colaboratory.intrinsic+json": {
              "type": "string"
            },
            "text/plain": [
              "'din'"
            ]
          },
          "metadata": {
            "tags": []
          },
          "execution_count": 20
        }
      ]
    },
    {
      "cell_type": "code",
      "metadata": {
        "id": "oAz_HHMHBrTM",
        "colab_type": "code",
        "colab": {}
      },
      "source": [
        "#Snowball\n",
        "\n",
        "from nltk.stem import SnowballStemmer\n",
        "\n",
        "snow = SnowballStemmer('french')"
      ],
      "execution_count": null,
      "outputs": []
    },
    {
      "cell_type": "code",
      "metadata": {
        "id": "Yzqkjm73B7Gy",
        "colab_type": "code",
        "colab": {
          "base_uri": "https://localhost:8080/",
          "height": 35
        },
        "outputId": "00e4e96b-1f66-460c-c5f8-e2f35e77083c"
      },
      "source": [
        "snow.stem(\"filles\")"
      ],
      "execution_count": null,
      "outputs": [
        {
          "output_type": "execute_result",
          "data": {
            "application/vnd.google.colaboratory.intrinsic+json": {
              "type": "string"
            },
            "text/plain": [
              "'fill'"
            ]
          },
          "metadata": {
            "tags": []
          },
          "execution_count": 25
        }
      ]
    },
    {
      "cell_type": "code",
      "metadata": {
        "id": "Z8L1TVrfCfs1",
        "colab_type": "code",
        "colab": {
          "base_uri": "https://localhost:8080/",
          "height": 35
        },
        "outputId": "6afcdb0f-af9b-4f6a-9012-7e6f418d76da"
      },
      "source": [
        "snow.stem(\"manges\")"
      ],
      "execution_count": null,
      "outputs": [
        {
          "output_type": "execute_result",
          "data": {
            "application/vnd.google.colaboratory.intrinsic+json": {
              "type": "string"
            },
            "text/plain": [
              "'mang'"
            ]
          },
          "metadata": {
            "tags": []
          },
          "execution_count": 27
        }
      ]
    },
    {
      "cell_type": "code",
      "metadata": {
        "id": "w1Vza1cZCk3h",
        "colab_type": "code",
        "colab": {
          "base_uri": "https://localhost:8080/",
          "height": 34
        },
        "outputId": "5e6647c5-b2ba-4605-c3ae-39461be7373f"
      },
      "source": [
        "text = \"Learning NLP with tutorials is very engaging\"\n",
        "\n",
        "stemmed = ' '.join([port.stem(token) for token in text.split(\" \")])\n",
        "print(stemmed)"
      ],
      "execution_count": null,
      "outputs": [
        {
          "output_type": "stream",
          "text": [
            "learn nlp with tutori is veri engag\n"
          ],
          "name": "stdout"
        }
      ]
    },
    {
      "cell_type": "markdown",
      "metadata": {
        "id": "U6uTgTbzD8Vi",
        "colab_type": "text"
      },
      "source": [
        "## Task 4: Segmenting an unsegmented language using Jieba"
      ]
    },
    {
      "cell_type": "code",
      "metadata": {
        "id": "JLey3xeXEBg5",
        "colab_type": "code",
        "colab": {}
      },
      "source": [
        "import jieba"
      ],
      "execution_count": 1,
      "outputs": []
    },
    {
      "cell_type": "code",
      "metadata": {
        "id": "jLuR0anpECsP",
        "colab_type": "code",
        "colab": {
          "base_uri": "https://localhost:8080/",
          "height": 102
        },
        "outputId": "ad22b7d5-7da6-4734-b545-3f54fc41900d"
      },
      "source": [
        "segments = jieba.cut('把句子中所有的可以成词的词语都扫描出来', cut_all = True) #looks for the longest word from the first \"symbol\" and cuts it at the longest possible word\n",
        "print(' '.join(segments))"
      ],
      "execution_count": 2,
      "outputs": [
        {
          "output_type": "stream",
          "text": [
            "Building prefix dict from the default dictionary ...\n",
            "Dumping model to file cache /tmp/jieba.cache\n",
            "Loading model cost 0.938 seconds.\n",
            "Prefix dict has been built successfully.\n"
          ],
          "name": "stderr"
        },
        {
          "output_type": "stream",
          "text": [
            "把 句子 中所 所有 的 可以 成 词 的 词语 都 扫描 描出 描出来 出来\n"
          ],
          "name": "stdout"
        }
      ]
    },
    {
      "cell_type": "code",
      "metadata": {
        "id": "xoVV4cJFENjD",
        "colab_type": "code",
        "colab": {}
      },
      "source": [
        ""
      ],
      "execution_count": null,
      "outputs": []
    }
  ]
}