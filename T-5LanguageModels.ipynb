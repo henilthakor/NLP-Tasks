{
  "nbformat": 4,
  "nbformat_minor": 0,
  "metadata": {
    "colab": {
      "name": "NLP_Task5_LanguageModels.ipynb",
      "provenance": [],
      "collapsed_sections": []
    },
    "kernelspec": {
      "name": "python3",
      "display_name": "Python 3"
    }
  },
  "cells": [
    {
      "cell_type": "code",
      "metadata": {
        "id": "FFbO7TXkf5Yj"
      },
      "source": [
        "import spacy"
      ],
      "execution_count": null,
      "outputs": []
    },
    {
      "cell_type": "code",
      "metadata": {
        "id": "20gRLkF7f_9Y"
      },
      "source": [
        "model = spacy.load('en_core_web_sm')"
      ],
      "execution_count": null,
      "outputs": []
    },
    {
      "cell_type": "code",
      "metadata": {
        "id": "SCHbXQU9hfya"
      },
      "source": [
        "text1 = \"\"\"Google, LLC is an American multinational technology company that specializes in Internet-related services and products, \n",
        "which include online advertising technologies, a search engine, cloud computing, software, and hardware. \n",
        "It is considered one of the Big Four technology companies in the U.S. information technology industry, alongside Amazon, Apple, and Microsoft\"\"\""
      ],
      "execution_count": null,
      "outputs": []
    },
    {
      "cell_type": "code",
      "metadata": {
        "id": "cOthq387g9Ks"
      },
      "source": [
        "doc1 = model(text1)"
      ],
      "execution_count": null,
      "outputs": []
    },
    {
      "cell_type": "code",
      "metadata": {
        "id": "Y5xtd-iFh60d",
        "outputId": "75dec907-a266-4f74-d46b-2799fd36281c",
        "colab": {
          "base_uri": "https://localhost:8080/",
          "height": 158
        }
      },
      "source": [
        "for ent in doc1.ents:\n",
        "  print(ent.text, ent.label_)"
      ],
      "execution_count": null,
      "outputs": [
        {
          "output_type": "stream",
          "text": [
            "Google ORG\n",
            "LLC ORG\n",
            "American NORP\n",
            "Four CARDINAL\n",
            "U.S. GPE\n",
            "Amazon ORG\n",
            "Apple ORG\n",
            "Microsoft ORG\n"
          ],
          "name": "stdout"
        }
      ]
    },
    {
      "cell_type": "code",
      "metadata": {
        "id": "z-scpcaPh--w",
        "outputId": "1f4bb670-d649-4b30-a42f-d4283b91d10a",
        "colab": {
          "base_uri": "https://localhost:8080/",
          "height": 34
        }
      },
      "source": [
        "text2 = \"\"\"The other person is a wealthy elderly businessman, Victor Delamonte. Victor \n",
        "is terminally ill with cancer and wishes to cheat death through cryogenic freezing.\"\"\"\n",
        "\n",
        "doc2 = model(text2)\n",
        "\n",
        "for ent in doc2.ents:\n",
        "  print(ent.text, ent.label_)"
      ],
      "execution_count": null,
      "outputs": [
        {
          "output_type": "stream",
          "text": [
            "Victor Delamonte PERSON\n"
          ],
          "name": "stdout"
        }
      ]
    },
    {
      "cell_type": "code",
      "metadata": {
        "id": "epJfgFFBjOJA"
      },
      "source": [
        "text3 = \"\"\"'A Fever You Can't Sweat Out' is the debut studio album by American pop rock band Panic! at the Disco. \n",
        "Produced by Matt Squire, the album was released on September 27, 2005, on Decaydance and Fueled by Ramen.\"\"\""
      ],
      "execution_count": null,
      "outputs": []
    },
    {
      "cell_type": "code",
      "metadata": {
        "id": "Y2PhZe-FkOkN",
        "outputId": "a0522b8c-9bc3-45b9-f485-9dfb056d4872",
        "colab": {
          "base_uri": "https://localhost:8080/",
          "height": 123
        }
      },
      "source": [
        "doc3 = model(text3)\n",
        "\n",
        "for ent in doc3.ents:\n",
        "  print(ent.text, ent.label_)"
      ],
      "execution_count": null,
      "outputs": [
        {
          "output_type": "stream",
          "text": [
            "A Fever You Can't Sweat Out' WORK_OF_ART\n",
            "American NORP\n",
            "Disco FAC\n",
            "Matt Squire PERSON\n",
            "September 27, 2005 DATE\n",
            "Decaydance PERSON\n"
          ],
          "name": "stdout"
        }
      ]
    },
    {
      "cell_type": "code",
      "metadata": {
        "id": "BYldQy6nkSnh",
        "outputId": "40195377-5d41-46e7-a873-7ebeb3714083",
        "colab": {
          "base_uri": "https://localhost:8080/",
          "height": 52
        }
      },
      "source": [
        "text4 = \"\"\"The Miranda warning is part of a preventive criminal procedure rule that law enforcement are required to \n",
        "administer to protect an individual who is in custody and subject to direct questioning or its functional equivalent from a violation of their Fifth Amendment \n",
        "right against compelled self-incrimination.\"\"\"\n",
        "\n",
        "doc4 = model(text4)\n",
        "\n",
        "for ent in doc4.ents:\n",
        "  print(ent.text, ent.label_)"
      ],
      "execution_count": null,
      "outputs": [
        {
          "output_type": "stream",
          "text": [
            "Miranda PERSON\n",
            "their Fifth Amendment LAW\n"
          ],
          "name": "stdout"
        }
      ]
    },
    {
      "cell_type": "code",
      "metadata": {
        "id": "BIPqUjBDl4WI",
        "outputId": "9876a01b-b7e8-4f7e-a772-019751736973",
        "colab": {
          "base_uri": "https://localhost:8080/",
          "height": 141
        }
      },
      "source": [
        "text5 = \"\"\"The Ganges is a holy river of India, a country in Asia. Himalayas is a long mountain range. \n",
        " Taj Mahal is one of the 7 wonders of the world. I have been working on my PhD\"\"\"\n",
        "\n",
        "doc5 = model(text5)\n",
        "\n",
        "for ent in doc5.ents:\n",
        "  print(ent.text, ent.label_)"
      ],
      "execution_count": null,
      "outputs": [
        {
          "output_type": "stream",
          "text": [
            "Ganges ORG\n",
            "India GPE\n",
            "Asia LOC\n",
            "Himalayas ORG\n",
            "Taj Mahal PERSON\n",
            "7 CARDINAL\n",
            "PhD WORK_OF_ART\n"
          ],
          "name": "stdout"
        }
      ]
    },
    {
      "cell_type": "code",
      "metadata": {
        "id": "JgEKeXP0mLO8",
        "outputId": "a28df181-f183-46e8-ccb0-cf4aee50899a",
        "colab": {
          "base_uri": "https://localhost:8080/",
          "height": 34
        }
      },
      "source": [
        "text6 = \"\"\"Type 1 diabetes results from the pancreas's failure to produce enough \n",
        "insulin due to loss of beta cells. This form was previously referred to as  \n",
        "\"insulin-dependent diabetes mellitus\" (IDDM) or \"juvenile diabetes\".\n",
        "The loss of beta cells is caused by an autoimmune response.\"\"\"\n",
        "\n",
        "doc6 = model(text6)\n",
        "\n",
        "for ent in doc6.ents:\n",
        "  print(ent.text, ent.label_)"
      ],
      "execution_count": null,
      "outputs": [
        {
          "output_type": "stream",
          "text": [
            "1 CARDINAL\n"
          ],
          "name": "stdout"
        }
      ]
    },
    {
      "cell_type": "code",
      "metadata": {
        "id": "uaMMCWjSrLRp"
      },
      "source": [
        ""
      ],
      "execution_count": null,
      "outputs": []
    }
  ]
}